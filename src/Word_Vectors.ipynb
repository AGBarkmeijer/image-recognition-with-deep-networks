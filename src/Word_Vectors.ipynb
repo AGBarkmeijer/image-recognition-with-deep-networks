{
  "nbformat": 4,
  "nbformat_minor": 0,
  "metadata": {
    "kernelspec": {
      "display_name": "Python 3",
      "language": "python",
      "name": "python3"
    },
    "language_info": {
      "codemirror_mode": {
        "name": "ipython",
        "version": 3
      },
      "file_extension": ".py",
      "mimetype": "text/x-python",
      "name": "python",
      "nbconvert_exporter": "python",
      "pygments_lexer": "ipython3",
      "version": "3.8.5"
    },
    "colab": {
      "name": "Word_Vectors.ipynb",
      "provenance": [],
      "collapsed_sections": []
    },
    "accelerator": "GPU"
  },
  "cells": [
    {
      "cell_type": "markdown",
      "metadata": {
        "id": "hRhlVYTTChh0"
      },
      "source": [
        "# Vectorial Word Representations\n",
        "\n",
        "## Background\n",
        "Representing words as dense vectors over a finite-dimensional space was one of the recent breakthroughs in Natural Language Processing. Vectorial representations allow space-efficient, informationally rich storage of words that adequately captures their semantic content and enables numerical computation on them. Word vectors are the standard input representation for machine learning architectures for language processing. Even though new methods for constructing such representations emerge frequently, the original set of published papers remain a de facto point of reference as well as a good starting point. For this assignment, you will be asked to implement a small-scale variant of one such paper, namely [Global Word Vectors for Word Representation](https://nlp.stanford.edu/pubs/glove.pdf).\n",
        "\n",
        "Much of the code and data pre-processing has already been done for you. Additionally, notes on the paper will appear throughout the notebook to guide you along the code. It is, however, important to read and understand the paper, its terminology and the theory behind it before attempting to go through with the assignment.\n",
        "\n",
        "For conceptual questions, give short but descriptive answers. Each sub-part (1.0-1.9) makes for 1 point out of a total of 10. "
      ]
    },
    {
      "cell_type": "markdown",
      "metadata": {
        "id": "zsq6ZeNRChh2"
      },
      "source": [
        "## Corpus Statistics\n",
        "\n",
        "The paper's proposed model, GloVe, aims to densely represent words in a way that captures the global corpus statistics. \n",
        "\n",
        "The construction it encodes is the word __co-occurrence matrix__. A co-occurrence matrix is a simplistic data structure that counts the amount of times each word has appeared within the context of each other word. The definition of a context varies; usually, context is implied to be a fixed-length span (that may or may not be allowed to escape sentence boundaries) around a word. \n",
        "\n",
        "For instance, in the sentence below and for a context length of 2, the word <span style=\"color:pink\">__Earth__</span> occurs in the context of <span style=\"color:lightgreen\">made</span> (1), <span style=\"color:lightgreen\">on</span> (1), <span style=\"color:lightgreen\">as</span> (1), <span style=\"color:lightgreen\">an</span> (1).\n",
        "\n",
        "> \"He struck most of the friends he had <span style=\"color:lightgreen\">made on</span> <span style=\"color:pink\">__Earth__</span> <span style=\"color:lightgreen\">as an</span> eccentric\"\n",
        "\n",
        "Similarly, the word <span style=\"color:pink\">__friends__</span> occurs in the context of <span style=\"color:lightgreen\">of</span> (1), <span style=\"color:lightgreen\">the</span> (1), <span style=\"color:lightgreen\">he</span> (1), <span style=\"color:lightgreen\">had</span> (1).\n",
        "\n",
        "> \"He struck most <span style=\"color:lightgreen\">of the</span> <span style=\"color:pink\">__friends__</span> <span style=\"color:lightgreen\">he had</span> made on Earth as an eccentric\"\n",
        "\n",
        "An alternative definition of a context would be, for instance, the variable-length windows spanned by a full sentence.\n",
        "\n",
        "Contexts may be summed across sentences or entire corpora; the summed context of <span style=\"color:pink\">he</span> in the example sentence is: <span style=\"color:lightgreen\">struck</span> (1), <span style=\"color:lightgreen\">most</span> (1), <span style=\"color:lightgreen\">the</span> (1), <span style=\"color:lightgreen\">friends</span> (1), <span style=\"color:lightgreen\">had</span> (1), <span style=\"color:lightgreen\">made</span> (1).\n",
        "\n"
      ]
    },
    {
      "cell_type": "markdown",
      "metadata": {
        "id": "T2XHnHCGChh4"
      },
      "source": [
        "For the purposes of this assignment, we have prepared a co-occurrence matrix over a minimally processed version of the Harry Potter books. The pickle file contains three items:\n",
        "1. `vocab`: a dictionary mapping words to unique ids, containing $N$ unique words\n",
        "1. `contexts`: a dictionary mapping words to their contexts, where contexts are themselves dicts from words to ints\n",
        "2. `X`: a torch LongTensor $\\mathbf{X}$ of size $N \\times N$, where $\\mathbf{X}[i,j]$ denotes the number of times the word with id $j$ has appeared in the context of the word with id $i$\n",
        "\n",
        "Extremely common or uncommon words (i.e. words with too few or too many global occurrences) have been filtered out for practical reasons."
      ]
    },
    {
      "cell_type": "code",
      "metadata": {
        "id": "F6r7NStEChh5"
      },
      "source": [
        "import pickle\n",
        "import torch\n",
        "from torch import FloatTensor, LongTensor\n",
        "from typing import Dict, Callable, List\n",
        "torch.set_printoptions(threshold=10_000)\n",
        "import numpy as np\n",
        "\n",
        "#set the pytorch device\n",
        "device = 'gpu'"
      ],
      "execution_count": 32,
      "outputs": []
    },
    {
      "cell_type": "code",
      "metadata": {
        "id": "Ex474BqDfMQh",
        "outputId": "4008b790-0558-4370-81dd-7abb501077e9",
        "colab": {
          "base_uri": "https://localhost:8080/",
          "height": 71
        }
      },
      "source": [
        "from google.colab import drive\n",
        "drive.mount('/content/drive')\n",
        "\n",
        "if torch.cuda.is_available():\n",
        "    device = 'cuda'\n",
        "else:\n",
        "    device = 'cpu'\n",
        "\n",
        "print('Using {}'.format(device))"
      ],
      "execution_count": 33,
      "outputs": [
        {
          "output_type": "stream",
          "text": [
            "Drive already mounted at /content/drive; to attempt to forcibly remount, call drive.mount(\"/content/drive\", force_remount=True).\n",
            "Using cuda\n"
          ],
          "name": "stdout"
        }
      ]
    },
    {
      "cell_type": "code",
      "metadata": {
        "id": "9ACGl5s2ChiF",
        "outputId": "0b459968-a179-4926-e6df-208dc033bc40",
        "colab": {
          "base_uri": "https://localhost:8080/",
          "height": 54
        }
      },
      "source": [
        "with open('/content/drive/My Drive/Colab Notebooks/output.p', 'rb') as f:\n",
        "    vocab, contexts, X = pickle.load(f)\n",
        "print(len(vocab))"
      ],
      "execution_count": 34,
      "outputs": [
        {
          "output_type": "stream",
          "text": [
            "5359\n"
          ],
          "name": "stdout"
        }
      ]
    },
    {
      "cell_type": "code",
      "metadata": {
        "id": "hIpEbSZCf4Yr",
        "outputId": "cf1d6d9f-111d-4de9-969f-c5243ea0bf4d",
        "colab": {
          "base_uri": "https://localhost:8080/",
          "height": 54
        }
      },
      "source": [
        "X = X.to(device)\n",
        "X.device"
      ],
      "execution_count": 35,
      "outputs": [
        {
          "output_type": "execute_result",
          "data": {
            "text/plain": [
              "device(type='cuda', index=0)"
            ]
          },
          "metadata": {
            "tags": []
          },
          "execution_count": 35
        }
      ]
    },
    {
      "cell_type": "markdown",
      "metadata": {
        "id": "YWlk8eEaChiM"
      },
      "source": [
        "Let's inspect the summed context of the word 'portrait'."
      ]
    },
    {
      "cell_type": "code",
      "metadata": {
        "id": "RRY_KK90ChiN"
      },
      "source": [
        "sorted([(item, value) for item, value in contexts['portrait'].items()], key=lambda x: x[1], reverse=True)"
      ],
      "execution_count": null,
      "outputs": []
    },
    {
      "cell_type": "markdown",
      "metadata": {
        "id": "L12XIFweChiR"
      },
      "source": [
        "How about the word 'ghost'?"
      ]
    },
    {
      "cell_type": "code",
      "metadata": {
        "id": "-GsWaLPvChiS"
      },
      "source": [
        "sorted([(item, value) for item, value in contexts['ghost'].items()], key=lambda x: x[1], reverse=True)"
      ],
      "execution_count": null,
      "outputs": []
    },
    {
      "cell_type": "markdown",
      "metadata": {
        "id": "A-9d0NOuChiV"
      },
      "source": [
        "The co-occurrence matrix of a very large corpus should give a meaningful summary of how a word is used in general. A single row of that matrix is already a __word vector__ of size $N$. However such vectors are extremely sparse, and for large corpora the size of $N$ will become unwieldy. We will follow along the paper in designing an algorithm that can compress the word vectors while retaining most of their informational content. \n",
        "\n",
        "<div class=\"alert alert-block alert-warning\">\n",
        "<b>Note:</b>\n",
        "For the resulting vectors to actually be informative, the source corpus should have a size of at least a few billion words; on the contrary, our corpus enumerates merely a million words, so we can't expect our results to be as great.\n",
        "</div>"
      ]
    },
    {
      "cell_type": "markdown",
      "metadata": {
        "id": "15Ehmhl5ChiW"
      },
      "source": [
        "### Assignment 1.0:  Sparsity and Stability\n",
        "\n",
        "Our matrix $\\mathbf{X}$ is very sparse; most of its elements are zero. Find what the ratio of non-zero elements is.\n",
        "\n",
        "_Hint_: The function `non_zero_ratio` should return a `float` rather than a `FloatTensor`. Remember `.item()`.\n",
        "\n",
        "We will soon need to perform division and find the logarithm of $\\mathbf{X}$. Neither of the two operations are well-defined for $0$.\n",
        "\n",
        "Change the matrix's datatype to a `torch.float` and add a small constant to it (e.g. $0.1$) to ensure numerical stability while maintaining sparsity."
      ]
    },
    {
      "cell_type": "code",
      "metadata": {
        "id": "w5FUrDtdChiW"
      },
      "source": [
        "# Non zero / tot number of elements \n",
        "def non_zero_ratio(sparse_matrix: LongTensor) -> float:\n",
        "    numpy_matrix = sparse_matrix.cpu().numpy()\n",
        "    \n",
        "    # number of non zeros\n",
        "    nz = np.count_nonzero(numpy_matrix)\n",
        "    # total numbers\n",
        "    ntot = 1\n",
        "    for ind in numpy_matrix.shape:\n",
        "        ntot = ntot*ind\n",
        "    return nz/ntot"
      ],
      "execution_count": 40,
      "outputs": []
    },
    {
      "cell_type": "code",
      "metadata": {
        "id": "fpfcD9ElChiZ",
        "outputId": "d96f953f-5336-4d40-bf8f-16525e6bda6d",
        "colab": {
          "base_uri": "https://localhost:8080/",
          "height": 54
        }
      },
      "source": [
        "# at first convert X from int to float\n",
        "X = X.to(torch.float)\n",
        "\n",
        "non_zero_ratio(X)"
      ],
      "execution_count": 41,
      "outputs": [
        {
          "output_type": "execute_result",
          "data": {
            "text/plain": [
              "0.108448515107535"
            ]
          },
          "metadata": {
            "tags": []
          },
          "execution_count": 41
        }
      ]
    },
    {
      "cell_type": "markdown",
      "metadata": {
        "id": "eNMnRpDdChib"
      },
      "source": [
        "### Assignment 1.1: From co-occurrence counts to probabilities\n",
        "From the paper: \n",
        "> Let the matrix of word-word co-occurrence counts be denoted by $X$, whose entries $X_{ij}$ tabulate the number of times word $j$ occurs in the context of word $i$.  Let $X_i$= $\\sum_{k} X_{ik}$ be the number of times any word appears in the context of word $i$. Finally, let $P_{ij} = P(j  | i) =  X_{ij}/X_i$ be the probability that word $j$ appear in the context of word $i$. \n",
        "\n",
        "Complete the function `to_probabilities`, that accepts a co-occurrence matrix and returns the probability matrix $P$. \n",
        "\n",
        "_Hint_: Remember broadcasting and `torch.sum()`."
      ]
    },
    {
      "cell_type": "code",
      "metadata": {
        "id": "EoFUkEB4Chic"
      },
      "source": [
        "def to_probabilities(count_matrix: FloatTensor) -> FloatTensor:\n",
        "    sum_matrix = torch.sum(count_matrix, 1) # build Xi\n",
        "    Pij = torch.true_divide(count_matrix, sum_matrix)\n",
        "    Pij[torch.isinf(Pij)] = 0\n",
        "    return Pij"
      ],
      "execution_count": 47,
      "outputs": []
    },
    {
      "cell_type": "code",
      "metadata": {
        "id": "IbVj9ZGqChif"
      },
      "source": [
        "P = to_probabilities(X)"
      ],
      "execution_count": 48,
      "outputs": []
    },
    {
      "cell_type": "markdown",
      "metadata": {
        "id": "Q5Zn-7X-Chih"
      },
      "source": [
        "### Assignment 1.2: Probing words\n",
        "\n",
        "From the paper:\n",
        "> Consider two words $i$ and $j$ that exhibit a particular aspect of interest. The relationship of these words can be examined by studying the ratio of their co-occurrence probabilities with various probe words, $k$.  For words $k$ related to $i$ but not $j$, we expect the ratio $P_{ik}/P_{jk}$ will be large.  Similarly, for words $k$ related to $j$ but not $i$, the ratio should be small. For words $k$ that are either related to both $i$ and $j$, or to neither, the ratio should be close to one.\n",
        "\n",
        "Complete the function `query` that accepts two words $w_i$ and $w_j$, a vocab $V$ and a probability matrix $\\mathbf{P}$, maps each word to its corresponding index and returns the probability $P(j  |  i)$.\n",
        "\n",
        "Then, complete the function `probe` that accepts three words $w_i$, $w_j$ and $w_k$, a vocab $V$ and a probability matrix $\\mathbf{P}$, calls `query` and returns the ratio $P(k |  i) / P(k  |  j)$."
      ]
    },
    {
      "cell_type": "code",
      "metadata": {
        "id": "7JaByGf0Chih"
      },
      "source": [
        "def query(word_i: str, word_j: str, vocab: Dict[str, int], probability_matrix: FloatTensor) -> float:  \n",
        "    i = vocab[word_i]\n",
        "    j = vocab[word_j]\n",
        "    # 𝑃(𝑗|𝑖) = probability that word j appears in the context of word i\n",
        "    return probability_matrix[i][j]\n",
        "\n",
        "def probe(word_i: str, word_j: str, word_k: str, vocab: Dict[str, int], probability_matrix: FloatTensor) -> float:\n",
        "    P_ik = query(word_i, word_k, vocab, probability_matrix)\n",
        "    P_jk = query(word_j, word_k, vocab, probability_matrix)\n",
        "    \n",
        "    return P_ik/P_jk"
      ],
      "execution_count": 49,
      "outputs": []
    },
    {
      "cell_type": "markdown",
      "metadata": {
        "id": "mPoyi3DOChij"
      },
      "source": [
        "Let's probe a few words and examine whether the authors' claim holds even for our (tiny) corpus. "
      ]
    },
    {
      "cell_type": "code",
      "metadata": {
        "id": "tHmMP6_4Chik",
        "outputId": "6b74ce19-169e-4ce6-9ce2-cc1fea84bf0f",
        "colab": {
          "base_uri": "https://localhost:8080/",
          "height": 203
        }
      },
      "source": [
        "print(probe('tea', 'wand', 'spell', vocab, P))\n",
        "print(probe('tea', 'wand', 'cup', vocab, P))\n",
        "\n",
        "print(probe('voldemort', 'hagrid', 'curse', vocab, P))\n",
        "print(probe('voldemort', 'hagrid', 'beast', vocab, P))\n",
        "\n",
        "print(probe('mcgonagall', 'snape', 'potions', vocab, P))\n",
        "print(probe('mcgonagall', 'snape', 'transfiguration', vocab, P))\n",
        "\n",
        "print(probe('hedwig', 'scabbers', 'owl', vocab, P))\n",
        "print(probe('hedwig', 'scabbers', 'rat', vocab, P))\n",
        "\n",
        "print(probe('ron', 'hermione', 'book', vocab, P))\n",
        "print(probe('ron', 'hermione', 'red', vocab, P))"
      ],
      "execution_count": 50,
      "outputs": [
        {
          "output_type": "stream",
          "text": [
            "tensor(0.0435, device='cuda:0')\n",
            "tensor(2.6667, device='cuda:0')\n",
            "tensor(5.4286, device='cuda:0')\n",
            "tensor(0.3333, device='cuda:0')\n",
            "tensor(0., device='cuda:0')\n",
            "tensor(20., device='cuda:0')\n",
            "tensor(8.2000, device='cuda:0')\n",
            "tensor(0.0233, device='cuda:0')\n",
            "tensor(0.7941, device='cuda:0')\n",
            "tensor(2.3902, device='cuda:0')\n"
          ],
          "name": "stdout"
        }
      ]
    },
    {
      "cell_type": "markdown",
      "metadata": {
        "id": "gJIW2LW3Chim"
      },
      "source": [
        "So it does seem like we are getting sensible results for in-domain words. Of course, probing out-of-domain words (such as the thermodynamics example the authors present) does not go all that well.. "
      ]
    },
    {
      "cell_type": "code",
      "metadata": {
        "id": "NE3bunEuChim",
        "outputId": "4316dda8-ec33-4fd3-e784-ee9b728b9e9d",
        "colab": {
          "base_uri": "https://localhost:8080/",
          "height": 71
        }
      },
      "source": [
        "print(probe('ice', 'steam', 'solid', vocab, P))\n",
        "print(probe('ice', 'steam', 'gas', vocab, P))"
      ],
      "execution_count": 46,
      "outputs": [
        {
          "output_type": "stream",
          "text": [
            "tensor(0., device='cuda:0')\n",
            "tensor(nan, device='cuda:0')\n"
          ],
          "name": "stdout"
        }
      ]
    },
    {
      "cell_type": "markdown",
      "metadata": {
        "id": "MFHWUyyZChio"
      },
      "source": [
        "(Take home message: HP books are probably not the best textbook on thermodynamics)"
      ]
    },
    {
      "cell_type": "markdown",
      "metadata": {
        "id": "UgxzUcciChip"
      },
      "source": [
        "## Dense Vectors\n",
        "\n",
        "Now, we would like to convert these long, spare vectors into short, dense ones. \n",
        "\n",
        "The conversion should be such that the probability ratios we inspected earlier may still be reconstructed via some (for now, unknown) operation $F$ on the dense vectors.\n",
        "\n",
        "To restrict the search space over potential functions, the authors impose a number of constraints they think $F$ should satisfy:\n",
        "1. > While $F$ could be taken to be a complicated function parameterized by, e.g., a neural network, doing so would obfuscate the linear structure we are trying to capture. $F$ should be dot-product based.\n",
        "2. > The distinction between a word and a context word is arbitrary and we are free to exchange the two roles. To do so consistently, we must not only exchange $w \\leftrightarrow \\tilde{w}$ but also $X \\leftrightarrow X^T$.\n",
        "3. > It should be well-defined for all values in $X$.\n",
        "\n",
        "Given these three constraints, each word $i$ of our vocabulary is represented by four vectors:\n",
        "1. A vector $w_i \\in \\mathbb{R}^D$\n",
        "2. A bias $b_i \\in \\mathbb{R}$\n",
        "3. A context vector $\\tilde{w}_i \\in \\mathbb{R}^D$\n",
        "4. A context bias $\\tilde{b}_i \\in \\mathbb{R}$\n",
        "\n",
        "and $F: \\mathbb{R}^D \\times \\mathbb{R} \\times \\mathbb{R}^D \\times \\mathbb{R} \\to \\mathbb{R}$ is defined as:\n",
        "\n",
        "$F(w_i, \\tilde{w}_j, b_i, \\tilde{b}_k) = w_i^T\\tilde{w}_k + b_i + \\tilde{b}_k$\n",
        "\n",
        "such that $F(w_i, \\tilde{w}_k, b_i, \\tilde{b}_k)$ approximates $log(\\mathbf{X}_{ik})$, \n",
        "\n",
        "or equivallently the least squares error $J$ is minimized, where:\n",
        "\n",
        "$J = \\sum_{i,j=1}^{V} f(X_{ij})(w_{i}^T\\tilde{w}_j + b_i + \\tilde{b}_j - log(X_{ij}))^2$ the loss term\n",
        "\n",
        "and \n",
        "\n",
        "$f: \\mathbb{R} \\to \\mathbb{R} = \\begin{cases}\n",
        "    (x/x_{max})^a, & \\text{if $x<x_{max}$}\\\\\n",
        "    1, & \\text{otherwise}.\n",
        "  \\end{cases}$ a term weighting function "
      ]
    },
    {
      "cell_type": "markdown",
      "metadata": {
        "id": "U8nwseJ8Chip"
      },
      "source": [
        "### Assignment 1.3: Weighting Function\n",
        "\n",
        "Let's start with the last part. Complete the weighting function `weight_fn` which accepts a co-occurrence matrix $\\mathbf{X}$, a maximum value $x_{max}$ and a fractional power $a$, and returns the weighted co-occurrence matrix $f(\\mathbf{X})$.\n",
        "\n",
        "Then, compute `X_weighted`, the weighting of $\\mathbf{X}$, using the paper's suggested parameters.\n",
        "\n",
        "_Hint_: Note that $f$ is defined point-wise, so our weighting function should also be point-wise."
      ]
    },
    {
      "cell_type": "code",
      "metadata": {
        "id": "fgbVln81Chip"
      },
      "source": [
        "def weight_fn(X: FloatTensor, x_max: int, a: float) -> FloatTensor:\n",
        "    # change values > xmax to (x/xmax)^a otherwise 1\n",
        "    X_numpy = X.cpu().numpy()\n",
        "    F_x = np.where(X_numpy<x_max, np.power(X_numpy/x_max, a), 1)\n",
        "    \n",
        "    return torch.tensor(F_x, device=device)"
      ],
      "execution_count": 12,
      "outputs": []
    },
    {
      "cell_type": "code",
      "metadata": {
        "id": "nyEKoiiEChir"
      },
      "source": [
        "a = 3/4\n",
        "x_max = 100\n",
        "X_weighted = weight_fn(X, x_max, a)"
      ],
      "execution_count": 13,
      "outputs": []
    },
    {
      "cell_type": "markdown",
      "metadata": {
        "id": "dvr72R_tChit"
      },
      "source": [
        "### Assignment 1.4: Loss Function\n",
        "\n",
        "Next step is to write the loss function. \n",
        "\n",
        "We can write it as a point-wise function, apply it iteratively over each pair of words and then sum the result; that's however extremely inefficient. \n",
        "\n",
        "Inspecting the formulation of $J$, it is fairly straight-forward to see that it can be immediately implemented using matrix-matrix operations, as:\n",
        "\n",
        "$J = \\sum_{i,j=1}^{V}f(\\mathbf{X})\\cdot(W\\tilde{W}^T + b + \\tilde{b}^T - log(X))^2$,\n",
        "\n",
        "where $W$, $\\tilde{W}$ the $N \\times D$ matrices containing the $D$-dimensional vectors of all our $N$ vocabulary words, and $b$, $\\tilde{b}$ the $N \\times 1$ matrices containing the $1$-dimensional biases of our words.\n",
        "\n",
        "Complete `loss_fn`, a function that accepts a weighted co-occurrence matrix $f(\\mathbf{X})$, the word vectors and biases $W$, $\\tilde{W}$, $b$, $\\tilde{b}$ and the co-occurrence matrix $\\mathbf{X}$, and computes $J$. "
      ]
    },
    {
      "cell_type": "code",
      "metadata": {
        "id": "phlssCMdChiu"
      },
      "source": [
        "def loss_fn(X_weighted: FloatTensor, W: FloatTensor, W_context: FloatTensor, \n",
        "            B: FloatTensor, B_context: FloatTensor, \n",
        "            X: FloatTensor) -> FloatTensor:\n",
        "    first_term = torch.mm(W, W_context.transpose(0, 1))\n",
        "    X_log = torch.log(X)\n",
        "    b_t = B_context.transpose(0,1)\n",
        "    \n",
        "    first_result = first_term + B\n",
        "    second_result = b_t - X_log\n",
        "    \n",
        "    final_result = torch.pow(torch.mm(first_result, second_result), 2)\n",
        "    \n",
        "    return torch.mm(X_weighted, final_result)"
      ],
      "execution_count": 14,
      "outputs": []
    },
    {
      "cell_type": "markdown",
      "metadata": {
        "id": "2UPW3ZkOChiv"
      },
      "source": [
        "### Assignment 1.5: GloVe\n",
        "\n",
        "We have the normalized co-occurrence matrix $\\mathbf{X}$, the weighting function $f$, and the loss function $J$ that implements $F$.\n",
        "\n",
        "What we need now is a mapping from words (or word ids) to unique, parametric and trainable vectors. \n",
        "\n",
        "Torch provides this abstraction in the form of [Embedding layers](https://pytorch.org/docs/stable/nn.html#embedding). Each such layer may be viewed as a stand-alone network, that can be optimized using the standard procedure we have already seen. \n",
        "\n",
        "We will utilize the `nn.Module` class to contain all our embedding layers and steamline their joint optimization.\n",
        "The container class will be responsible for a few things:\n",
        "\n",
        "1. Wrapping the embedding layers:\n",
        "    1. A vector embedding that maps words to $w \\in \\mathbb{R}^D$\n",
        "    1. A context vector embedding that maps words to $w_c \\in \\mathbb{R}^D$\n",
        "    1. A bias embedding that maps words to $b \\in \\mathbb{R}^1$\n",
        "    1. A context bias embedding that maps words to $b_c \\in \\mathbb{R}^1$\n",
        "1. Implementing `forward`, a function that accepts a weighted co-occurrence matrix $f(\\mathbf{X})$, the co-occurrence matrix $\\mathbf{X}$, then finds the embeddings of all words and finally calls `loss_fn` as defined above.\n",
        "1. Implementing `get_vectors`, a function that receives no input and produces the word vectors and context word vectors of all words, adds them together and returns the result, in accordance with the paper:\n",
        "> .. With this in mind, we choose to use the sum $W + \\tilde{W}$ as our word vectors.\n",
        "\n",
        "Complete the network class following the above specifications.\n"
      ]
    },
    {
      "cell_type": "code",
      "metadata": {
        "id": "1_uQ11byChiw"
      },
      "source": [
        "class GloVe(torch.nn.Module):\n",
        "    def __init__(self, vocab: Dict[str, int], vector_dimensionality: int=30, device: str='cuda') -> None:\n",
        "        super(GloVe, self).__init__()\n",
        "        self.device = device\n",
        "        self.vocab_len = len(vocab)\n",
        "        self.w = torch.nn.Embedding(len(vocab), vector_dimensionality).cuda()\n",
        "        self.wc = torch.nn.Embedding(len(vocab), vector_dimensionality).cuda()\n",
        "        self.b = torch.nn.Embedding(len(vocab), 1).cuda()\n",
        "        self.bc = torch.nn.Embedding(len(vocab), 1).cuda()\n",
        "        \n",
        "    def forward(self, X_weighted: FloatTensor, X: FloatTensor) -> FloatTensor:\n",
        "        embedding_input = torch.arange(self.vocab_len).to(self.device)\n",
        "        W = self.w(embedding_input)\n",
        "        W_context = self.wc(embedding_input)\n",
        "        B = self.b(embedding_input)\n",
        "        B_context = self.b(embedding_input)\n",
        "        return loss_fn(X_weighted, W, W_context, B, B_context, X)\n",
        "    \n",
        "    def get_vectors(self) -> FloatTensor:\n",
        "        embedding_input = torch.arange(self.vocab_len).to(self.device)\n",
        "        W = self.w(embedding_input)\n",
        "        W_context = self.wc(embedding_input)\n",
        "        return (W + W_context)"
      ],
      "execution_count": 15,
      "outputs": []
    },
    {
      "cell_type": "markdown",
      "metadata": {
        "id": "ZnQYUtCjChiy"
      },
      "source": [
        "### Assignment 1.6: Training\n",
        "\n",
        "Everything is in place; now we may begin optimizing our embedding layers (and in doing so, the vectors they assign). Instantiate the network class you just defined, using $D = 30$. Then instantiate an `Adam` optimizer with a learning rate of 0.05 and train your network for 300 epochs.\n",
        "\n",
        "When writing the training script, remember that your network's forward pass is __already__ computing the loss."
      ]
    },
    {
      "cell_type": "code",
      "metadata": {
        "id": "RRprpitQChiy",
        "outputId": "c500793d-0aa1-46fa-aee5-0c523f3e80b8",
        "colab": {
          "base_uri": "https://localhost:8080/",
          "height": 137
        }
      },
      "source": [
        "D = 30\n",
        "network = GloVe(vocab, D, device)\n",
        "\n",
        "print(network)\n",
        "\n",
        "opt = torch.optim.SparseAdam(network.parameters(), lr=0.05)"
      ],
      "execution_count": 16,
      "outputs": [
        {
          "output_type": "stream",
          "text": [
            "GloVe(\n",
            "  (w): Embedding(5359, 30)\n",
            "  (wc): Embedding(5359, 30)\n",
            "  (b): Embedding(5359, 1)\n",
            "  (bc): Embedding(5359, 1)\n",
            ")\n"
          ],
          "name": "stdout"
        }
      ]
    },
    {
      "cell_type": "code",
      "metadata": {
        "id": "mywPgp66Chi0",
        "outputId": "7b2bfcbf-5956-41be-b4ee-2f02422664a3",
        "colab": {
          "base_uri": "https://localhost:8080/",
          "height": 236
        }
      },
      "source": [
        "num_epochs = 600\n",
        "\n",
        "for t in range(num_epochs):\n",
        "    opt.zero_grad() # reset gradients\n",
        "    loss = network.forward(X_weighted, X) # compute loss (optionally print/graph)\n",
        "    #loss.mean().backward() # backward\n",
        "    opt.step()  # optimize\n",
        "    \n",
        "    if t%50 == 0:\n",
        "        print('Iteration {}'.format(t))"
      ],
      "execution_count": 23,
      "outputs": [
        {
          "output_type": "stream",
          "text": [
            "Iteration 0\n",
            "Iteration 50\n",
            "Iteration 100\n",
            "Iteration 150\n",
            "Iteration 200\n",
            "Iteration 250\n",
            "Iteration 300\n",
            "Iteration 350\n",
            "Iteration 400\n",
            "Iteration 450\n",
            "Iteration 500\n",
            "Iteration 550\n"
          ],
          "name": "stdout"
        }
      ]
    },
    {
      "cell_type": "markdown",
      "metadata": {
        "id": "g5gG4j9iChi2"
      },
      "source": [
        "### Assignment 1.7: Validation (Similarity)\n",
        "\n",
        "Curious to see what this network has learned? Let's perform a simple validation experiment. \n",
        "\n",
        "We will check which words the models considers the most similar to other words. To that end, we need a notion of __similarity__. One of the most common measures of similarity in high dimensional vector spaces is the cosine similarity. \n",
        "\n",
        "The cosine similarity of two vectors $\\vec{a}, \\vec{b}$ is given as:\n",
        "$$sim(\\vec{a}, \\vec{b}) = \\frac{\\vec{a}\\cdot \\vec{b}}{|\\vec{a}|_2 \\cdot |\\vec{b}|_2}$$\n",
        "\n",
        "where $|\\vec{x}|$_2 the $L_2$-norm of the $\\vec{x}$.\n",
        "\n",
        "The function `similarity` below accepts two words, a vocabulary and the network's output vectors, and computes the similarity between these two words."
      ]
    },
    {
      "cell_type": "code",
      "metadata": {
        "id": "fUsH85JRChi2"
      },
      "source": [
        "def similarity(word_i: str, word_j: str, vocab: Dict[str, int], vectors: FloatTensor) -> float:\n",
        "    i = vocab[word_i]\n",
        "    j = vocab[word_j] \n",
        "    v_i = vectors[i] / torch.norm(vectors[i], p=2)  # a/|a|\n",
        "    v_j = vectors[j] / torch.norm(vectors[j], p=2)  # b/|b|\n",
        "    sim = torch.mm(v_i.view(1, -1), v_j.view(-1, 1)).item()\n",
        "    return sim"
      ],
      "execution_count": 24,
      "outputs": []
    },
    {
      "cell_type": "markdown",
      "metadata": {
        "id": "1aibn4nMChi4"
      },
      "source": [
        "Let's see some examples (try your own word pairs):"
      ]
    },
    {
      "cell_type": "code",
      "metadata": {
        "id": "zySNH6CyChi4",
        "outputId": "46850fb3-cfca-47dd-bcc7-debf8431ee14",
        "colab": {
          "base_uri": "https://localhost:8080/",
          "height": 120
        }
      },
      "source": [
        "word_vectors = network.get_vectors().detach()\n",
        "\n",
        "for pair in [('cruciatus', 'imperius'), \n",
        "             ('avada', 'kedavra'), \n",
        "             ('hogwarts', 'school'), \n",
        "             ('goblin', 'hagrid'), \n",
        "             ('giant', 'hagrid')]:\n",
        "    \n",
        "    print('Similarity between {} and {} is: {}'.\n",
        "          format(pair[0], pair[1], similarity(pair[0], pair[1], vocab, word_vectors)))"
      ],
      "execution_count": 26,
      "outputs": [
        {
          "output_type": "stream",
          "text": [
            "Similarity between cruciatus and imperius is: -0.2287980616092682\n",
            "Similarity between avada and kedavra is: 0.13735181093215942\n",
            "Similarity between hogwarts and school is: 0.07982930541038513\n",
            "Similarity between goblin and hagrid is: -0.06182320415973663\n",
            "Similarity between giant and hagrid is: -0.13665586709976196\n"
          ],
          "name": "stdout"
        }
      ]
    },
    {
      "cell_type": "markdown",
      "metadata": {
        "id": "Hi4RVQgTChi6"
      },
      "source": [
        "To obtain the similarities of one word against all other words in the corpus, we may rewrite the above equation as:\n",
        "$$sim(\\vec{w}, \\mathbf{C}) = \\frac{\\vec{w}\\cdot \\mathbf{C}}{|\\vec{w}|_2 \\cdot |\\mathbf{C}|_2}$$\n",
        "\n",
        "Using `similarity` as a reference, write `similarities`, which accepts one word, a vocabulary and the network's output vectors and computes the similarity between the word and the entire corpus.\n",
        "\n",
        "_Hint_: $\\mathbf{C} \\in \\mathbb{R}^{N, D}$, $\\vec{w} \\in \\mathbb{R}^{1, D}$, $sim(\\vec{w}, \\mathbf{C}) \\in \\mathbb{R}^{1, N}$"
      ]
    },
    {
      "cell_type": "code",
      "metadata": {
        "id": "7blu9SWSChi7"
      },
      "source": [
        "def similarities(word_i: str, vocab: Dict[str, int], vectors: FloatTensor) -> FloatTensor:\n",
        "    i = vocab[word_i]\n",
        "    v_i = vectors[i] / torch.norm(vectors[i], p=2)  # w/|w|_2\n",
        "    C = vectors / torch.norm(vectors, p=2) # C / |C|_2\n",
        "\n",
        "    sim = torch.mm(v_i.view(1, -1), C.transpose(0,1))\n",
        "    return sim"
      ],
      "execution_count": 27,
      "outputs": []
    },
    {
      "cell_type": "markdown",
      "metadata": {
        "id": "3pCYPmTBChi8"
      },
      "source": [
        "Now we can manipulate the word vectors to find out what the corpus-wide most similar words to a query word is!"
      ]
    },
    {
      "cell_type": "code",
      "metadata": {
        "id": "QCgCqHy8Chi8"
      },
      "source": [
        "def most_similar(word_i: str, vocab: Dict[str, int], vectors: FloatTensor, k: int) -> List[str]:\n",
        "    sims = similarities(word_i, vocab, vectors)\n",
        "    _, topi = sims.topk(dim=-1, k=k)\n",
        "    topi = topi.view(-1).cpu().numpy().tolist()\n",
        "    inv = {v: i for i, v in vocab.items()}\n",
        "    return [inv[i] for i in topi if inv[i] != word_i]"
      ],
      "execution_count": 28,
      "outputs": []
    },
    {
      "cell_type": "code",
      "metadata": {
        "id": "22N_s1sFChi-",
        "outputId": "cb13f158-e9aa-4467-bdf2-71a0bc858706",
        "colab": {
          "base_uri": "https://localhost:8080/",
          "height": 220
        }
      },
      "source": [
        "for word in ['forbidden', 'myrtle', 'gryffindor', 'wand', 'quidditch', 'marauder', 'horcrux', 'phoenix', 'triwizard', 'screaming',\n",
        "            'letter']:\n",
        "    print('Most similar words to {}: {}'.format(word, most_similar(word, vocab, word_vectors, 6)))"
      ],
      "execution_count": 29,
      "outputs": [
        {
          "output_type": "stream",
          "text": [
            "Most similar words to forbidden: ['narrowly', 'load', 'mountains', 'written', 'best']\n",
            "Most similar words to myrtle: ['hitting', 'saturday', 'flapped', 'roots', 'launched']\n",
            "Most similar words to gryffindor: ['press', 'takes', 'kendra', 'slytherins', 'doors']\n",
            "Most similar words to wand: ['seats', 'stock', 'cream', 'bust', 'knock']\n",
            "Most similar words to quidditch: ['oldest', 'clothes', 'sense', 'loathed', 'lifted']\n",
            "Most similar words to marauder: ['superb', 'rat', 'moment', 'noise', 'leading']\n",
            "Most similar words to horcrux: ['gave', 'monsieur', 'solid', 'molly', 'doubted']\n",
            "Most similar words to phoenix: ['tangle', 'impediment', 'pressing', 'familiar', 'feeding']\n",
            "Most similar words to triwizard: ['quaffle', 'blowing', 'dressed', 'jam', 'merrily']\n",
            "Most similar words to screaming: ['strict', 'superb', 'saving', 'dissolved', 'scathingly']\n",
            "Most similar words to letter: ['drawer', 'twitching', 'alleyway', 'sensible', 'sleek']\n"
          ],
          "name": "stdout"
        }
      ]
    },
    {
      "cell_type": "markdown",
      "metadata": {
        "id": "5izSCVgPChi_"
      },
      "source": [
        "Quite impressive; we managed to encode a meaningful portion of the corpus statistics in such $30$ numbers in each word! \n",
        "(A compression ratio of 99.4%)\n",
        "\n",
        "<div class=\"alert alert-block alert-warning\">\n",
        "<b>Note:</b> The word vectors obtained by this process are (to a small extent) random, due to the random initialization of the embedding layers. If you are unhappy with your results, you can repeat the experiment a few times or try to toy around with the hyper-parameters (the smoothing factor of $\\mathbf{X}$, $x_{max}$, $a$, the number of epochs and the dimensionality of the vector space).\n",
        "</div>\n",
        "\n",
        "Word vectors, however, contain way more information than just word co-occurrence statistics. Hold tight until the next assignment, where we will see how word vectors may be used to infer information spanning entire phrases and sentences."
      ]
    },
    {
      "cell_type": "markdown",
      "metadata": {
        "id": "xMzXL1qfChjA"
      },
      "source": [
        "### Assignment 1.8: Shortcomings\n",
        "Evidently, GloVe offers a simple and computationally efficient means to construct dense word representations.\n",
        "However, the means of vectorization suffers from a few important shortcomings.\n",
        "Can you imagine what these are? Discuss amongst your group and briefly report on at least two of them here."
      ]
    },
    {
      "cell_type": "markdown",
      "metadata": {
        "id": "cjznxWrMChjA"
      },
      "source": [
        ""
      ]
    },
    {
      "cell_type": "markdown",
      "metadata": {
        "id": "hUYz_0g4ChjA"
      },
      "source": [
        "### Assignment 1.9: Validation (Word Analogies)\n",
        "\n",
        "From the paper:\n",
        "> The word analogy task consists of questions like \"_a_ is to _b_ as is _c_ to ?\" To correctly answer this question, we must find the word d such that $w_d \\approx w_b - w_a + w_c$ according to the cosine similarity.\n",
        "\n",
        "Write your own function that performs the word analogy task.\n",
        "\n",
        "_Hint_: Take a look at the code a few cells back. Most of what you need is already there."
      ]
    },
    {
      "cell_type": "code",
      "metadata": {
        "id": "Ky0i5FY-ChjB"
      },
      "source": [
        "def analogy(word_a: str, word_b: str, word_c: str, vocab: Dict[str, int], vectors: FloatTensor, k: int) -> List[str]:\n",
        "    a = vocab[word_a]\n",
        "    b = vocab[word_b]\n",
        "    c = vocab[word_c]\n",
        "\n",
        "    d = vectors[b] - vectors[a] + vectors[c]\n",
        "\n",
        "    _, topi = d.topk(dim=-1, k=k)\n",
        "    topi = topi.view(-1).cpu().numpy().tolist()\n",
        "    inv = {v: i for i, v in vocab.items()}\n",
        "    return [inv[i] for i in topi]\n",
        "\n"
      ],
      "execution_count": 30,
      "outputs": []
    },
    {
      "cell_type": "markdown",
      "metadata": {
        "id": "_yH-dH1AChjC"
      },
      "source": [
        "Some example triplets to test your analogies on."
      ]
    },
    {
      "cell_type": "code",
      "metadata": {
        "id": "VAxHF4cSChjC",
        "outputId": "c7bc990c-cb39-4b76-801f-0b59192ffe57",
        "colab": {
          "base_uri": "https://localhost:8080/",
          "height": 170
        }
      },
      "source": [
        "triplets = [('padma', 'parvati', 'fred'),\n",
        "            ('avada', 'kedavra', 'expecto'),\n",
        "            ('dungeon', 'slytherin', 'tower'),\n",
        "            ('scabbers', 'ron', 'hedwig'),\n",
        "            ('ron', 'molly', 'draco'),\n",
        "            ('durmstrang', 'viktor', 'beauxbatons'),\n",
        "            ('snape', 'potions', 'trelawney'),\n",
        "            ('harry', 'seeker', 'ron')\n",
        "           ]\n",
        "\n",
        "for a, b, c in triplets:\n",
        "    print('{} is to {} as {} is to {}'.format(a, b, c, analogy(a, b, c, vocab, word_vectors, 6)))"
      ],
      "execution_count": 31,
      "outputs": [
        {
          "output_type": "stream",
          "text": [
            "padma is to parvati as fred is to ['tip', 'collided', 'charges', 'prodding', 'stretched', 'squeeze']\n",
            "avada is to kedavra as expecto is to ['collided', 'newspaper', 'stretched', 'tip', 'laid', 'charges']\n",
            "dungeon is to slytherin as tower is to ['charges', 'pots', 'kettle', 'faint', 'collided', 'tip']\n",
            "scabbers is to ron as hedwig is to ['flavor', 'oncoming', 'charges', 'newspaper', 'stretched', 'urge']\n",
            "ron is to molly as draco is to ['steam', 'kettle', 'urge', 'charges', 'article', 'flatly']\n",
            "durmstrang is to viktor as beauxbatons is to ['kettle', 'gathered', 'pots', 'knuts', 'flavor', 'alastor']\n",
            "snape is to potions as trelawney is to ['urge', 'flavor', 'gathered', 'collided', 'weird', 'new']\n",
            "harry is to seeker as ron is to ['flatly', 'newspaper', 'flavor', 'knuts', 'oncoming', 'collided']\n"
          ],
          "name": "stdout"
        }
      ]
    },
    {
      "cell_type": "markdown",
      "metadata": {
        "id": "yeJ2ubc8ChjD"
      },
      "source": [
        "Some minimal emergent intelligence :) *(hopefully..)*"
      ]
    },
    {
      "cell_type": "markdown",
      "metadata": {
        "id": "nyLGAXw1ChjE"
      },
      "source": [
        "🧙‍♀️"
      ]
    },
    {
      "cell_type": "markdown",
      "metadata": {
        "id": "MUmY47Y4ChjE"
      },
      "source": [
        "### Extra (Optional)\n",
        "If you are done, you can experiment with the following in order to understand the system's behaviour better. For example: How does training and hyper-parameter choice affect the model's performance?\n",
        "Repeat the training using your own hyper-parameters (vector space dimensionality, optimizer parameters, training epochs, etc.). \n",
        "\n",
        "During the training loop, print the qualitative benchmarks every few epochs. Do they keep improving? Is there any disadvantage to exhaustively training until convergence?"
      ]
    },
    {
      "cell_type": "code",
      "metadata": {
        "id": "c9uuUQEzChjE"
      },
      "source": [
        ""
      ],
      "execution_count": null,
      "outputs": []
    }
  ]
}